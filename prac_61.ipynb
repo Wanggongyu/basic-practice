{
 "cells": [
  {
   "cell_type": "markdown",
   "metadata": {},
   "source": [
    "打印出杨辉三角形"
   ]
  },
  {
   "cell_type": "code",
   "execution_count": 8,
   "metadata": {},
   "outputs": [],
   "source": [
    "def yanghui_trangle(n):\n",
    "    \"\"\"\n",
    "    返回n行的杨辉三角\n",
    "    \"\"\"\n",
    "    tranle_list = [[1], [1,1]] #初始化，从第0行记起\n",
    "    for row in range(2,n): #从第二行开始添加新的数据\n",
    "        previous_row = row - 1 #前一行\n",
    "        tranle_list.append([1]) # 当前行创建新的列表\n",
    "        #for idx in range(1, len(tranle_list[previous_row])): #利用前一行数据生成当前行的数据\n",
    "        #    tranle_list[row].append(tranle_list[previous_row][idx] + tranle_list[previous_row][idx - 1])\n",
    "        #列表解析的形式，方便理解\n",
    "        tmp_list = [(tranle_list[previous_row][idx] + tranle_list[previous_row][idx - 1]) for idx in range(1,len(tranle_list[previous_row]))]\n",
    "        tranle_list[row] += tmp_list\n",
    "        tranle_list[row].append(1) #当前行末尾添加1\n",
    "    return tranle_list"
   ]
  },
  {
   "cell_type": "code",
   "execution_count": 9,
   "metadata": {},
   "outputs": [
    {
     "data": {
      "text/plain": [
       "[[1],\n",
       " [1, 1],\n",
       " [1, 2, 1],\n",
       " [1, 3, 3, 1],\n",
       " [1, 4, 6, 4, 1],\n",
       " [1, 5, 10, 10, 5, 1],\n",
       " [1, 6, 15, 20, 15, 6, 1],\n",
       " [1, 7, 21, 35, 35, 21, 7, 1],\n",
       " [1, 8, 28, 56, 70, 56, 28, 8, 1],\n",
       " [1, 9, 36, 84, 126, 126, 84, 36, 9, 1]]"
      ]
     },
     "execution_count": 9,
     "metadata": {},
     "output_type": "execute_result"
    }
   ],
   "source": [
    "yanghui_trangle(10)"
   ]
  },
  {
   "cell_type": "code",
   "execution_count": null,
   "metadata": {},
   "outputs": [],
   "source": []
  }
 ],
 "metadata": {
  "kernelspec": {
   "display_name": "Python 3",
   "language": "python",
   "name": "python3"
  },
  "language_info": {
   "codemirror_mode": {
    "name": "ipython",
    "version": 3
   },
   "file_extension": ".py",
   "mimetype": "text/x-python",
   "name": "python",
   "nbconvert_exporter": "python",
   "pygments_lexer": "ipython3",
   "version": "3.6.2"
  }
 },
 "nbformat": 4,
 "nbformat_minor": 2
}
