{
 "cells": [
  {
   "cell_type": "markdown",
   "metadata": {},
   "source": [
    "打印出杨辉三角形"
   ]
  },
  {
   "cell_type": "code",
   "execution_count": 1,
   "metadata": {},
   "outputs": [],
   "source": [
    "def yanghui_triangle(n):\n",
    "    \"\"\"\n",
    "    返回n行的杨辉三角\n",
    "    \"\"\"\n",
    "    triangle = [[1], [1, 1]] #初始化，从第0行记起\n",
    "    \n",
    "    for row in range(2,n): #从第二行开始添加新的数据\n",
    "        pre_row = row - 1 #前一行\n",
    "        \n",
    "        triangle.append([1]) # 当前行创建新的列表\n",
    "     \n",
    "        temp = [triangle[pre_row][idx] + triangle[pre_row][idx - 1] for idx in range(pre_row)] #利用前一行生成临时列表\n",
    "        triangle[row] += temp\n",
    "        triangle[row].append(1) #当前行末尾添加1\n",
    "        \n",
    "    return triangle"
   ]
  },
  {
   "cell_type": "code",
   "execution_count": 2,
   "metadata": {},
   "outputs": [
    {
     "data": {
      "text/plain": [
       "[[1],\n",
       " [1, 1],\n",
       " [1, 2, 1],\n",
       " [1, 2, 3, 1],\n",
       " [1, 2, 3, 5, 1],\n",
       " [1, 2, 3, 5, 8, 1],\n",
       " [1, 2, 3, 5, 8, 13, 1],\n",
       " [1, 2, 3, 5, 8, 13, 21, 1],\n",
       " [1, 2, 3, 5, 8, 13, 21, 34, 1],\n",
       " [1, 2, 3, 5, 8, 13, 21, 34, 55, 1]]"
      ]
     },
     "execution_count": 2,
     "metadata": {},
     "output_type": "execute_result"
    }
   ],
   "source": [
    "yanghui_triangle(10)"
   ]
  }
 ],
 "metadata": {
  "kernelspec": {
   "display_name": "Python 3",
   "language": "python",
   "name": "python3"
  },
  "language_info": {
   "codemirror_mode": {
    "name": "ipython",
    "version": 3
   },
   "file_extension": ".py",
   "mimetype": "text/x-python",
   "name": "python",
   "nbconvert_exporter": "python",
   "pygments_lexer": "ipython3",
   "version": "3.6.4"
  }
 },
 "nbformat": 4,
 "nbformat_minor": 2
}
