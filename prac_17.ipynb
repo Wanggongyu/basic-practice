{
 "cells": [
  {
   "cell_type": "markdown",
   "metadata": {},
   "source": [
    "输入一行字符，分别统计出其中英文字母、空格、数字和其它字符的个数。"
   ]
  },
  {
   "cell_type": "code",
   "execution_count": 1,
   "metadata": {},
   "outputs": [
    {
     "name": "stdout",
     "output_type": "stream",
     "text": [
      "please input a string: hello, world! 3Q\n"
     ]
    }
   ],
   "source": [
    "s = input(\"please input a string: \")\n",
    "letters = 0\n",
    "space = 0\n",
    "digits = 0\n",
    "others = 0"
   ]
  },
  {
   "cell_type": "code",
   "execution_count": 2,
   "metadata": {},
   "outputs": [],
   "source": [
    "for chr in s:\n",
    "    if chr.isalpha():\n",
    "        letters += 1\n",
    "    if chr.isspace():\n",
    "        space += 1\n",
    "    if chr.isdigit():\n",
    "        digits += 1\n",
    "    else:\n",
    "        others += 1"
   ]
  },
  {
   "cell_type": "code",
   "execution_count": 3,
   "metadata": {},
   "outputs": [
    {
     "name": "stdout",
     "output_type": "stream",
     "text": [
      "letters: 11 space: 2 digits: 1 others: 15\n"
     ]
    }
   ],
   "source": [
    "print(\"letters: %i space: %i digits: %i others: %i\" % (letters, space, digits, others))"
   ]
  },
  {
   "cell_type": "code",
   "execution_count": null,
   "metadata": {},
   "outputs": [],
   "source": []
  }
 ],
 "metadata": {
  "kernelspec": {
   "display_name": "Python 3",
   "language": "python",
   "name": "python3"
  },
  "language_info": {
   "codemirror_mode": {
    "name": "ipython",
    "version": 3
   },
   "file_extension": ".py",
   "mimetype": "text/x-python",
   "name": "python",
   "nbconvert_exporter": "python",
   "pygments_lexer": "ipython3",
   "version": "3.6.3"
  }
 },
 "nbformat": 4,
 "nbformat_minor": 2
}
