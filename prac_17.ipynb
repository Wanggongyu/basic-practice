{
 "cells": [
  {
   "cell_type": "markdown",
   "metadata": {},
   "source": [
    "输入一行字符，分别统计出其中英文字母、空格、数字和其它字符的个数。"
   ]
  },
  {
   "cell_type": "code",
   "execution_count": 1,
   "metadata": {},
   "outputs": [
    {
     "name": "stdout",
     "output_type": "stream",
     "text": [
      "please input a string: 123, hello, world\n"
     ]
    }
   ],
   "source": [
    "s = input(\"please input a string: \")\n",
    "letters = 0\n",
    "space = 0\n",
    "digits = 0\n",
    "others = 0\n",
    "letters, spaces, digits, others = 0, 0, 0, 0"
   ]
  },
  {
   "cell_type": "code",
   "execution_count": 2,
   "metadata": {
    "collapsed": true
   },
   "outputs": [],
   "source": [
    "for chr in s:\n",
    "    if chr.isalpha():\n",
    "        letters += 1\n",
    "    elif chr.isspace():\n",
    "        space += 1\n",
    "    elif chr.isdigit():\n",
    "        digits += 1\n",
    "    else:\n",
    "        others += 1"
   ]
  },
  {
   "cell_type": "code",
   "execution_count": 3,
   "metadata": {},
   "outputs": [
    {
     "name": "stdout",
     "output_type": "stream",
     "text": [
      "letters: 10 space: 2 digits: 3 others: 2\n"
     ]
    }
   ],
   "source": [
    "print(\"letters: {0} space: {1} digits: {2} others: {3}\".format(letters, space, digits, others))"
   ]
  }
 ],
 "metadata": {
  "kernelspec": {
   "display_name": "Python 3",
   "language": "python",
   "name": "python3"
  },
  "language_info": {
   "codemirror_mode": {
    "name": "ipython",
    "version": 3
   },
   "file_extension": ".py",
   "mimetype": "text/x-python",
   "name": "python",
   "nbconvert_exporter": "python",
   "pygments_lexer": "ipython3",
   "version": "3.6.4"
  }
 },
 "nbformat": 4,
 "nbformat_minor": 2
}
