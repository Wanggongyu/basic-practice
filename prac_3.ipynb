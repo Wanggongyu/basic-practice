{
 "cells": [
  {
   "cell_type": "code",
   "execution_count": 11,
   "metadata": {},
   "outputs": [
    {
     "name": "stdout",
     "output_type": "stream",
     "text": [
      "m = 43, n = 41, x = 1581 \n"
     ]
    }
   ],
   "source": [
    "for i in range(84, 168, 2):\n",
    "    j = 168 // i\n",
    "    if j % 2:\n",
    "        continue\n",
    "    m = (i + j) / 2\n",
    "    n = (i - j) / 2\n",
    "    x1 = n**2 - 100\n",
    "    x2 = m**2 - 268\n",
    "    if x1 == x2 and x1 >= 0:\n",
    "        print(\"m = %i, n = %i, x = %i \" % (m, n, x1))"
   ]
  },
  {
   "cell_type": "code",
   "execution_count": null,
   "metadata": {},
   "outputs": [],
   "source": []
  }
 ],
 "metadata": {
  "kernelspec": {
   "display_name": "Python 3",
   "language": "python",
   "name": "python3"
  },
  "language_info": {
   "codemirror_mode": {
    "name": "ipython",
    "version": 3
   },
   "file_extension": ".py",
   "mimetype": "text/x-python",
   "name": "python",
   "nbconvert_exporter": "python",
   "pygments_lexer": "ipython3",
   "version": "3.6.2"
  }
 },
 "nbformat": 4,
 "nbformat_minor": 2
}
