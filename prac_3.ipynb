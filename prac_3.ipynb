{
 "cells": [
  {
   "cell_type": "markdown",
   "metadata": {},
   "source": [
    "题目：一个整数，它加上100后是一个完全平方数，再加上168又是一个完全平方数，请问该数是多少？"
   ]
  },
  {
   "cell_type": "markdown",
   "metadata": {},
   "source": [
    "假设该数为 x。\n",
    "\n",
    "1、则：x + 100 = n^2, x + 100 + 168 = m^2\n",
    "\n",
    "2、计算等式：m^2 - n^2 = (m + n)(m - n) = 168\n",
    "\n",
    "3、由上式看出n<84, n<m<168,解出m、n即可解出x, 。"
   ]
  },
  {
   "cell_type": "code",
   "execution_count": 1,
   "metadata": {},
   "outputs": [
    {
     "name": "stdout",
     "output_type": "stream",
     "text": [
      "m = 13, n = 1, x = -99\n",
      "m = 17, n = 11, x = 21\n",
      "m = 23, n = 19, x = 261\n",
      "m = 43, n = 41, x = 1581\n"
     ]
    }
   ],
   "source": [
    "for n in range(84):\n",
    "    for m in range(n, 168):\n",
    "        if (m+n)*(m-n) == 168:\n",
    "            print(\"m = {}, n = {}, x = {}\".format(m, n, n**2-100))"
   ]
  }
 ],
 "metadata": {
  "kernelspec": {
   "display_name": "Python 3",
   "language": "python",
   "name": "python3"
  },
  "language_info": {
   "codemirror_mode": {
    "name": "ipython",
    "version": 3
   },
   "file_extension": ".py",
   "mimetype": "text/x-python",
   "name": "python",
   "nbconvert_exporter": "python",
   "pygments_lexer": "ipython3",
   "version": "3.6.4"
  }
 },
 "nbformat": 4,
 "nbformat_minor": 2
}
