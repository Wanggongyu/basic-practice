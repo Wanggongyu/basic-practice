{
 "cells": [
  {
   "cell_type": "markdown",
   "metadata": {},
   "source": [
    "一个数如果恰好等于它的因子之和，这个数就称为\"完数\"。例如6=1＋2＋3.编程找出1000以内的所有完数。"
   ]
  },
  {
   "cell_type": "code",
   "execution_count": 1,
   "metadata": {},
   "outputs": [],
   "source": [
    "def is_perfect_num(n):\n",
    "    s = 0\n",
    "    begin = 1\n",
    "    end = n // begin\n",
    "    while(begin <= end):\n",
    "        if begin * end == n:\n",
    "            s += (begin + end)\n",
    "        begin += 1\n",
    "        end = n // begin\n",
    "    s -= n\n",
    "    if s == n:\n",
    "        return True\n",
    "    return False"
   ]
  },
  {
   "cell_type": "code",
   "execution_count": 6,
   "metadata": {},
   "outputs": [
    {
     "name": "stdout",
     "output_type": "stream",
     "text": [
      "6\n",
      "28\n",
      "496\n"
     ]
    }
   ],
   "source": [
    "for num in range(2, 1001):\n",
    "    if is_perfect_num(num):\n",
    "        print(num)"
   ]
  },
  {
   "cell_type": "code",
   "execution_count": null,
   "metadata": {},
   "outputs": [],
   "source": []
  }
 ],
 "metadata": {
  "kernelspec": {
   "display_name": "Python 3",
   "language": "python",
   "name": "python3"
  },
  "language_info": {
   "codemirror_mode": {
    "name": "ipython",
    "version": 3
   },
   "file_extension": ".py",
   "mimetype": "text/x-python",
   "name": "python",
   "nbconvert_exporter": "python",
   "pygments_lexer": "ipython3",
   "version": "3.6.3"
  }
 },
 "nbformat": 4,
 "nbformat_minor": 2
}
