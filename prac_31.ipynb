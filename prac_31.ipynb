{
 "cells": [
  {
   "cell_type": "markdown",
   "metadata": {},
   "source": [
    "请输入星期几的第一个字母来判断一下是星期几，如果第一个字母一样，则继续判断第二个字母。"
   ]
  },
  {
   "cell_type": "code",
   "execution_count": 1,
   "metadata": {
    "collapsed": true
   },
   "outputs": [],
   "source": [
    "weekdays = ['Mon', 'Tue', 'Wed', 'Thu', 'Fri', 'Sat', 'Sun']"
   ]
  },
  {
   "cell_type": "code",
   "execution_count": 2,
   "metadata": {},
   "outputs": [
    {
     "name": "stdout",
     "output_type": "stream",
     "text": [
      "please input a letter: T\n",
      "found more than on day that fit your condition, if you want to continue, input anything except q: u\n",
      "found:  ['Tue']\n",
      "if you want to continue, input anything except q: q\n"
     ]
    }
   ],
   "source": [
    "letter = input(\"please input a letter: \")\n",
    "\n",
    "char = ''\n",
    "while(letter != 'q'):\n",
    "    char += letter #应付前几个字母一样的字段有多个的情况\n",
    "    temps = [day for day in weekdays if day.startswith(char)] #判断是否有多个字段的前几个字母一样\n",
    "    if not temps:\n",
    "        letter = input(\"not found, if you want to continue, input anything except q: \")\n",
    "        char = ''\n",
    "    elif len(temps) == 1:\n",
    "        print(\"found: \", temps)\n",
    "        letter = input(\"if you want to continue, input anything except q: \")\n",
    "        char = ''\n",
    "    else:\n",
    "        letter = input(\"found more than on day that fit your condition, if you want to continue, input anything except q: \")"
   ]
  }
 ],
 "metadata": {
  "kernelspec": {
   "display_name": "Python 3",
   "language": "python",
   "name": "python3"
  },
  "language_info": {
   "codemirror_mode": {
    "name": "ipython",
    "version": 3
   },
   "file_extension": ".py",
   "mimetype": "text/x-python",
   "name": "python",
   "nbconvert_exporter": "python",
   "pygments_lexer": "ipython3",
   "version": "3.6.4"
  }
 },
 "nbformat": 4,
 "nbformat_minor": 2
}
