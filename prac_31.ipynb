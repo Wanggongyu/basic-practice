{
 "cells": [
  {
   "cell_type": "markdown",
   "metadata": {},
   "source": [
    "请输入星期几的第一个字母来判断一下是星期几，如果第一个字母一样，则继续判断第二个字母。"
   ]
  },
  {
   "cell_type": "code",
   "execution_count": 1,
   "metadata": {},
   "outputs": [],
   "source": [
    "week_list = ['Monday', 'Tuesday', 'Wednesday', 'Thursday', 'Friday', 'Saturday', 'Sunday']"
   ]
  },
  {
   "cell_type": "code",
   "execution_count": 2,
   "metadata": {},
   "outputs": [],
   "source": [
    "import re"
   ]
  },
  {
   "cell_type": "code",
   "execution_count": 3,
   "metadata": {},
   "outputs": [
    {
     "name": "stdout",
     "output_type": "stream",
     "text": [
      "please input a lettera\n"
     ]
    }
   ],
   "source": [
    "char = ''\n",
    "letter = input(\"please input a letter\")"
   ]
  },
  {
   "cell_type": "code",
   "execution_count": 4,
   "metadata": {},
   "outputs": [
    {
     "name": "stdout",
     "output_type": "stream",
     "text": [
      "not found, if you want to continue, input anything except q:M\n",
      "found:  ['Monday']\n",
      "if you want to continue, input anything except q: T\n",
      "found more than on day that fit your condition, if you want to continue, input anything except q: u\n",
      "found:  ['Tuesday']\n",
      "if you want to continue, input anything except q: q\n"
     ]
    }
   ],
   "source": [
    "while(letter != 'q'):\n",
    "    char += letter #应付前几个字母一样的字段有多个的情况\n",
    "    tmp_list = [] #判断是否有多个字段的前几个字母一样\n",
    "    for day in week_list:\n",
    "        if re.match(char, day):\n",
    "            tmp_list.append(day)\n",
    "    if len(tmp_list) == 0:\n",
    "        letter = input(\"not found, if you want to continue, input anything except q:\")\n",
    "        char = ''\n",
    "    elif len(tmp_list) == 1:\n",
    "        print(\"found: \", tmp_list)\n",
    "        letter = input(\"if you want to continue, input anything except q: \")\n",
    "        char = ''\n",
    "    else:\n",
    "        letter = input(\"found more than on day that fit your condition, if you want to continue, input anything except q: \")"
   ]
  },
  {
   "cell_type": "code",
   "execution_count": null,
   "metadata": {},
   "outputs": [],
   "source": []
  }
 ],
 "metadata": {
  "kernelspec": {
   "display_name": "Python 3",
   "language": "python",
   "name": "python3"
  },
  "language_info": {
   "codemirror_mode": {
    "name": "ipython",
    "version": 3
   },
   "file_extension": ".py",
   "mimetype": "text/x-python",
   "name": "python",
   "nbconvert_exporter": "python",
   "pygments_lexer": "ipython3",
   "version": "3.6.3"
  }
 },
 "nbformat": 4,
 "nbformat_minor": 2
}
