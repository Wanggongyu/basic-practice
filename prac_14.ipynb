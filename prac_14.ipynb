{
 "cells": [
  {
   "cell_type": "markdown",
   "metadata": {},
   "source": [
    "将一个正整数分解质因数。例如：输入90,打印出90=2*3*3*5。"
   ]
  },
  {
   "cell_type": "code",
   "execution_count": 1,
   "metadata": {
    "collapsed": true
   },
   "outputs": [],
   "source": [
    "from primes import make_primes #primes是自建的模块，在当前文件夹下可找到"
   ]
  },
  {
   "cell_type": "markdown",
   "metadata": {},
   "source": [
    "分解质因数"
   ]
  },
  {
   "cell_type": "code",
   "execution_count": 2,
   "metadata": {
    "collapsed": true
   },
   "outputs": [],
   "source": [
    "primes = make_primes(90)\n",
    "def decomposition(n):\n",
    "    i = 0\n",
    "    while (n not in primes):\n",
    "        if n % primes[i] == 0:\n",
    "            print(primes[i], \"*\", end=\" \")\n",
    "            n //= primes[i]\n",
    "        else:\n",
    "            i += 1\n",
    "    print(n)"
   ]
  },
  {
   "cell_type": "code",
   "execution_count": 3,
   "metadata": {},
   "outputs": [
    {
     "name": "stdout",
     "output_type": "stream",
     "text": [
      "2 * 3 * 3 * 5\n"
     ]
    }
   ],
   "source": [
    "make_primes(90)\n",
    "decomposition(90)"
   ]
  }
 ],
 "metadata": {
  "kernelspec": {
   "display_name": "Python 3",
   "language": "python",
   "name": "python3"
  },
  "language_info": {
   "codemirror_mode": {
    "name": "ipython",
    "version": 3
   },
   "file_extension": ".py",
   "mimetype": "text/x-python",
   "name": "python",
   "nbconvert_exporter": "python",
   "pygments_lexer": "ipython3",
   "version": "3.6.4"
  }
 },
 "nbformat": 4,
 "nbformat_minor": 2
}
