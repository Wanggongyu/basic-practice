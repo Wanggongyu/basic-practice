{
 "cells": [
  {
   "cell_type": "markdown",
   "metadata": {},
   "source": [
    "有一个已经排好序的数组。现输入一个数，要求按原来的规律将它插入数组中。"
   ]
  },
  {
   "cell_type": "code",
   "execution_count": 1,
   "metadata": {
    "collapsed": true
   },
   "outputs": [],
   "source": [
    "#默认数组是升序排列的\n",
    "def insert_func(n, lst):\n",
    "    if n <= lst[0]:\n",
    "        lst.insert(0,n)\n",
    "        return\n",
    "    \n",
    "    if n >= lst[-1]:\n",
    "        lst.append(n)\n",
    "        return   #两种特殊情况:n要从两端插入列表\n",
    "    \n",
    "    begin = 0 #n可以插入列表中间\n",
    "    end = len(lst) - 1 #夹逼的方法，\n",
    "    while(begin + 1 != end):\n",
    "        mid = (begin + end) // 2  #折半搜寻\n",
    "        if n >= lst[mid]:\n",
    "            begin = mid\n",
    "        else:\n",
    "            end = mid\n",
    "    lst.insert(end, n)"
   ]
  },
  {
   "cell_type": "code",
   "execution_count": 2,
   "metadata": {},
   "outputs": [
    {
     "data": {
      "text/plain": [
       "[0, 1, 2, 3, 4, 5, 6, 7, 8, 9, 11]"
      ]
     },
     "execution_count": 2,
     "metadata": {},
     "output_type": "execute_result"
    }
   ],
   "source": [
    "lst = list(range(10))\n",
    "insert_func(11, lst)\n",
    "lst"
   ]
  }
 ],
 "metadata": {
  "kernelspec": {
   "display_name": "Python 3",
   "language": "python",
   "name": "python3"
  },
  "language_info": {
   "codemirror_mode": {
    "name": "ipython",
    "version": 3
   },
   "file_extension": ".py",
   "mimetype": "text/x-python",
   "name": "python",
   "nbconvert_exporter": "python",
   "pygments_lexer": "ipython3",
   "version": "3.6.4"
  }
 },
 "nbformat": 4,
 "nbformat_minor": 2
}
