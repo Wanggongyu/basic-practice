{
 "cells": [
  {
   "cell_type": "markdown",
   "metadata": {},
   "source": [
    "题目：有四个数字：1、2、3、4，能组成多少个互不相同且无重复数字的三位数？各是多少？"
   ]
  },
  {
   "cell_type": "code",
   "execution_count": 1,
   "metadata": {
    "collapsed": true
   },
   "outputs": [],
   "source": [
    "def print_num(*nums):\n",
    "    for i in nums:\n",
    "        for j in nums:\n",
    "            for k in nums:\n",
    "                if (i != j != k != k ):\n",
    "                    print(100*i + 10*j + k)"
   ]
  },
  {
   "cell_type": "code",
   "execution_count": 2,
   "metadata": {
    "collapsed": true
   },
   "outputs": [],
   "source": [
    "nums = [1, 2, 3, 4]\n",
    "print_num(*nums)"
   ]
  },
  {
   "cell_type": "code",
   "execution_count": 3,
   "metadata": {
    "collapsed": true
   },
   "outputs": [],
   "source": [
    "import itertools"
   ]
  },
  {
   "cell_type": "code",
   "execution_count": 4,
   "metadata": {},
   "outputs": [
    {
     "data": {
      "text/plain": [
       "[(1, 2, 3),\n",
       " (1, 2, 4),\n",
       " (1, 3, 2),\n",
       " (1, 3, 4),\n",
       " (1, 4, 2),\n",
       " (1, 4, 3),\n",
       " (2, 1, 3),\n",
       " (2, 1, 4),\n",
       " (2, 3, 1),\n",
       " (2, 3, 4),\n",
       " (2, 4, 1),\n",
       " (2, 4, 3),\n",
       " (3, 1, 2),\n",
       " (3, 1, 4),\n",
       " (3, 2, 1),\n",
       " (3, 2, 4),\n",
       " (3, 4, 1),\n",
       " (3, 4, 2),\n",
       " (4, 1, 2),\n",
       " (4, 1, 3),\n",
       " (4, 2, 1),\n",
       " (4, 2, 3),\n",
       " (4, 3, 1),\n",
       " (4, 3, 2)]"
      ]
     },
     "execution_count": 4,
     "metadata": {},
     "output_type": "execute_result"
    }
   ],
   "source": [
    "list(itertools.permutations(nums, 3))"
   ]
  }
 ],
 "metadata": {
  "kernelspec": {
   "display_name": "Python 3",
   "language": "python",
   "name": "python3"
  },
  "language_info": {
   "codemirror_mode": {
    "name": "ipython",
    "version": 3
   },
   "file_extension": ".py",
   "mimetype": "text/x-python",
   "name": "python",
   "nbconvert_exporter": "python",
   "pygments_lexer": "ipython3",
   "version": "3.6.4"
  }
 },
 "nbformat": 4,
 "nbformat_minor": 2
}
