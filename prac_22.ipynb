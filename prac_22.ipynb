{
 "cells": [
  {
   "cell_type": "markdown",
   "metadata": {},
   "source": [
    "两个乒乓球队进行比赛，各出三人。甲队为a,b,c三人，乙队为x,y,z三人。已抽签决定比赛名单。有人向队员打听比赛的名单。a说他不和x比，c说他不和x,z比，请编程序找出三队赛手的名单。"
   ]
  },
  {
   "cell_type": "code",
   "execution_count": 15,
   "metadata": {
    "collapsed": true
   },
   "outputs": [],
   "source": [
    "from itertools import permutations"
   ]
  },
  {
   "cell_type": "code",
   "execution_count": 16,
   "metadata": {
    "collapsed": true
   },
   "outputs": [],
   "source": [
    "#找出可能的比赛组合列表\n",
    "team_1 = ['a', 'b', 'c']\n",
    "team_2 = ['x', 'y', 'z']"
   ]
  },
  {
   "cell_type": "code",
   "execution_count": 26,
   "metadata": {
    "collapsed": true
   },
   "outputs": [],
   "source": [
    "games = []\n",
    "\n",
    "for team_b in permutations(team_2):\n",
    "    games.append(list(zip(team_1, team_b)))"
   ]
  },
  {
   "cell_type": "code",
   "execution_count": 27,
   "metadata": {},
   "outputs": [
    {
     "data": {
      "text/plain": [
       "[[('a', 'x'), ('b', 'y'), ('c', 'z')],\n",
       " [('a', 'x'), ('b', 'z'), ('c', 'y')],\n",
       " [('a', 'y'), ('b', 'x'), ('c', 'z')],\n",
       " [('a', 'y'), ('b', 'z'), ('c', 'x')],\n",
       " [('a', 'z'), ('b', 'x'), ('c', 'y')],\n",
       " [('a', 'z'), ('b', 'y'), ('c', 'x')]]"
      ]
     },
     "execution_count": 27,
     "metadata": {},
     "output_type": "execute_result"
    }
   ],
   "source": [
    "games #可能的比赛组合"
   ]
  },
  {
   "cell_type": "code",
   "execution_count": 28,
   "metadata": {},
   "outputs": [
    {
     "name": "stdout",
     "output_type": "stream",
     "text": [
      "[('a', 'z'), ('b', 'x'), ('c', 'y')]\n"
     ]
    }
   ],
   "source": [
    "#排除不可能的组合\n",
    "for permu in games:\n",
    "    flag = True\n",
    "    for game in permu:\n",
    "        if game in [('a', 'x'), ('c', 'x'), ('c', 'z')]:\n",
    "            flag = False\n",
    "    if flag:\n",
    "        print(permu)"
   ]
  }
 ],
 "metadata": {
  "kernelspec": {
   "display_name": "Python 3",
   "language": "python",
   "name": "python3"
  },
  "language_info": {
   "codemirror_mode": {
    "name": "ipython",
    "version": 3
   },
   "file_extension": ".py",
   "mimetype": "text/x-python",
   "name": "python",
   "nbconvert_exporter": "python",
   "pygments_lexer": "ipython3",
   "version": "3.6.4"
  }
 },
 "nbformat": 4,
 "nbformat_minor": 2
}
