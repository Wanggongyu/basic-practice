{
 "cells": [
  {
   "cell_type": "markdown",
   "metadata": {},
   "source": [
    "两个乒乓球队进行比赛，各出三人。甲队为a,b,c三人，乙队为x,y,z三人。已抽签决定比赛名单。有人向队员打听比赛的名单。a说他不和x比，c说他不和x,z比，请编程序找出三队赛手的名单。"
   ]
  },
  {
   "cell_type": "code",
   "execution_count": 6,
   "metadata": {
    "collapsed": true
   },
   "outputs": [],
   "source": [
    "from itertools import permutations"
   ]
  },
  {
   "cell_type": "code",
   "execution_count": 7,
   "metadata": {
    "collapsed": true
   },
   "outputs": [],
   "source": [
    "#找出可能的比赛组合列表\n",
    "team_1 = ['a', 'b', 'c']\n",
    "team_2 = ['x', 'y', 'z']"
   ]
  },
  {
   "cell_type": "code",
   "execution_count": 8,
   "metadata": {
    "collapsed": true
   },
   "outputs": [],
   "source": [
    "combs = []\n",
    "\n",
    "for permu in permutations(team_2):\n",
    "    combs.append(list(zip(team_1, permu)))"
   ]
  },
  {
   "cell_type": "code",
   "execution_count": 9,
   "metadata": {},
   "outputs": [
    {
     "data": {
      "text/plain": [
       "[[('a', 'x'), ('b', 'y'), ('c', 'z')],\n",
       " [('a', 'x'), ('b', 'z'), ('c', 'y')],\n",
       " [('a', 'y'), ('b', 'x'), ('c', 'z')],\n",
       " [('a', 'y'), ('b', 'z'), ('c', 'x')],\n",
       " [('a', 'z'), ('b', 'x'), ('c', 'y')],\n",
       " [('a', 'z'), ('b', 'y'), ('c', 'x')]]"
      ]
     },
     "execution_count": 9,
     "metadata": {},
     "output_type": "execute_result"
    }
   ],
   "source": [
    "combs #可能的比赛组合"
   ]
  },
  {
   "cell_type": "code",
   "execution_count": 10,
   "metadata": {},
   "outputs": [
    {
     "name": "stdout",
     "output_type": "stream",
     "text": [
      "[('a', 'z'), ('b', 'x'), ('c', 'y')]\n"
     ]
    }
   ],
   "source": [
    "#排除不可能的组合\n",
    "for comb in combs:\n",
    "    flag = True\n",
    "    for VS in comb:\n",
    "        if VS in [('a', 'x'), ('c', 'x'), ('c', 'z')]:\n",
    "            flag = False\n",
    "            break\n",
    "    if flag:\n",
    "        print(comb)"
   ]
  }
 ],
 "metadata": {
  "kernelspec": {
   "display_name": "Python 3",
   "language": "python",
   "name": "python3"
  },
  "language_info": {
   "codemirror_mode": {
    "name": "ipython",
    "version": 3
   },
   "file_extension": ".py",
   "mimetype": "text/x-python",
   "name": "python",
   "nbconvert_exporter": "python",
   "pygments_lexer": "ipython3",
   "version": "3.6.4"
  }
 },
 "nbformat": 4,
 "nbformat_minor": 2
}
