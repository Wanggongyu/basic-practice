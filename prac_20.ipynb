{
 "cells": [
  {
   "cell_type": "markdown",
   "metadata": {},
   "source": [
    "一球从100米高度自由落下，每次落地后反跳回原高度的一半；再落下，求它在第10次落地时，共经过多少米？第10次反弹多高？"
   ]
  },
  {
   "cell_type": "code",
   "execution_count": 1,
   "metadata": {},
   "outputs": [],
   "source": [
    "#递归方法\n",
    "def height(h0, n): #初始高度h0, 第n次反弹后高度\n",
    "    if n == 0:\n",
    "        return h0\n",
    "    return height(h0, n-1) * 0.5"
   ]
  },
  {
   "cell_type": "code",
   "execution_count": 11,
   "metadata": {},
   "outputs": [
    {
     "name": "stdout",
     "output_type": "stream",
     "text": [
      "the total movement length: 299.609375 the 10th height: 0.097656\n"
     ]
    }
   ],
   "source": [
    "h = 100\n",
    "for n in range(1, 10):\n",
    "    h += 2 * height(100, n)\n",
    "print(\"the total movement length: %f the 10th height: %f\" % (h, height(100, 10)))"
   ]
  },
  {
   "cell_type": "code",
   "execution_count": 14,
   "metadata": {},
   "outputs": [],
   "source": [
    "#不用递归\n",
    "def height_list(h0, n):\n",
    "    lst = [h0]\n",
    "    for i in range(1, n+1):\n",
    "        lst.append(0.5 * lst[-1])\n",
    "    return lst"
   ]
  },
  {
   "cell_type": "code",
   "execution_count": 16,
   "metadata": {},
   "outputs": [
    {
     "data": {
      "text/plain": [
       "[100,\n",
       " 50.0,\n",
       " 25.0,\n",
       " 12.5,\n",
       " 6.25,\n",
       " 3.125,\n",
       " 1.5625,\n",
       " 0.78125,\n",
       " 0.390625,\n",
       " 0.1953125,\n",
       " 0.09765625]"
      ]
     },
     "execution_count": 16,
     "metadata": {},
     "output_type": "execute_result"
    }
   ],
   "source": [
    "height_list(100, 10)"
   ]
  }
 ],
 "metadata": {
  "kernelspec": {
   "display_name": "Python 3",
   "language": "python",
   "name": "python3"
  },
  "language_info": {
   "codemirror_mode": {
    "name": "ipython",
    "version": 3
   },
   "file_extension": ".py",
   "mimetype": "text/x-python",
   "name": "python",
   "nbconvert_exporter": "python",
   "pygments_lexer": "ipython3",
   "version": "3.6.3"
  }
 },
 "nbformat": 4,
 "nbformat_minor": 2
}
