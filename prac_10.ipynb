{
 "cells": [
  {
   "cell_type": "markdown",
   "metadata": {},
   "source": [
    "暂停一秒输出，并格式化当前时间。"
   ]
  },
  {
   "cell_type": "code",
   "execution_count": 1,
   "metadata": {
    "collapsed": true
   },
   "outputs": [],
   "source": [
    "import time"
   ]
  },
  {
   "cell_type": "code",
   "execution_count": 2,
   "metadata": {},
   "outputs": [
    {
     "name": "stdout",
     "output_type": "stream",
     "text": [
      "2018-02-11 11:43:28\n",
      "2018-02-11 11:43:30\n"
     ]
    }
   ],
   "source": [
    "if __name__ == '__main__':\n",
    "    localtime1 = time.strftime(\"%Y-%m-%d %X\")\n",
    "    print(localtime1)\n",
    "    time.sleep(2)\n",
    "    localtime2 = time.strftime(\"%Y-%m-%d %X\")\n",
    "    print(localtime2)"
   ]
  }
 ],
 "metadata": {
  "kernelspec": {
   "display_name": "Python 3",
   "language": "python",
   "name": "python3"
  },
  "language_info": {
   "codemirror_mode": {
    "name": "ipython",
    "version": 3
   },
   "file_extension": ".py",
   "mimetype": "text/x-python",
   "name": "python",
   "nbconvert_exporter": "python",
   "pygments_lexer": "ipython3",
   "version": "3.6.4"
  }
 },
 "nbformat": 4,
 "nbformat_minor": 2
}
