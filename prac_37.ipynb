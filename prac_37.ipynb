{
 "cells": [
  {
   "cell_type": "markdown",
   "metadata": {},
   "source": [
    "题目： 对10个数进行排序。"
   ]
  },
  {
   "cell_type": "markdown",
   "metadata": {},
   "source": [
    "冒泡法：\n",
    "比较相邻的元素。如果第一个比第二个大，就交换他们两个。 对第0个到第n-1个数据做同样的工作。\n",
    "这时，最大的数就“浮”到了数组最后的位置上。 针对所有的元素重复以上的步骤，除了最后一个。 \n",
    "持续每次对越来越少的元素重复上面的步骤，直到没有任何一对数字需要比较。"
   ]
  },
  {
   "cell_type": "code",
   "execution_count": 1,
   "metadata": {
    "collapsed": true
   },
   "outputs": [],
   "source": [
    "def bubble_sort_1(arry):\n",
    "    pos = len(arry) - 1 #把位置pos（包括自身）前面最大的数放到POS位置上\n",
    "    \n",
    "    while(pos > 0): \n",
    "        for i in range(pos): # 推数的具体实施方案, j 从0到pos-1, 将pos前面最大的值通过互换推送到pos的位置上\n",
    "            if arry[i] > arry[i+1]: #相邻两个数比较，如果前者比后者大，则互换位置，完成把第i大的数推到n-i的位置上。\n",
    "                arry[i], arry[i+1] = arry[i+1], arry[i]\n",
    "        pos -= 1 #位置往前移动一个单位\n",
    "        \n",
    "    return arry"
   ]
  },
  {
   "cell_type": "code",
   "execution_count": 2,
   "metadata": {},
   "outputs": [
    {
     "data": {
      "text/plain": [
       "[2, 3, 4, 5, 6, 7, 8, 9, 10]"
      ]
     },
     "execution_count": 2,
     "metadata": {},
     "output_type": "execute_result"
    }
   ],
   "source": [
    "lst = list(range(10, 1, -1))\n",
    "bubble_sort_1(lst)"
   ]
  },
  {
   "cell_type": "code",
   "execution_count": 3,
   "metadata": {
    "collapsed": true
   },
   "outputs": [],
   "source": [
    "#优化1，若在某次内层遍历中没有发生一次相邻数据之间的交换，则说明前面数已经排好序了，不需要再继续后面的循环了\n",
    "def bubble_sort_2(arry):\n",
    "    pos = len(arry) - 1 #把位置pos（包括自身）前面最大的数放到POS位置上\n",
    "    \n",
    "    while(pos > 0): \n",
    "        is_sorted = True\n",
    "        \n",
    "        for i in range(pos): # 推数的具体实施方案, j 从0到pos-1, 将pos前面最大的值通过互换推送到pos的位置上\n",
    "            if arry[i] > arry[i+1]: #相邻两个数比较，如果前者比后者大，则互换位置，完成把第i大的数推到n-i的位置上。\n",
    "                arry[i], arry[i+1] = arry[i+1], arry[i]\n",
    "                is_sorted = False # 如果发生互换，表明在互换之前没有排好序\n",
    "                \n",
    "        if is_sorted:# 在POS之前遍历时没有发生互换，说明pos之前的数已经排好序了，所以不用继续遍历了\n",
    "            break\n",
    "            \n",
    "        pos -= 1 #位置往前移动一个单位\n",
    "        \n",
    "    return arry"
   ]
  },
  {
   "cell_type": "code",
   "execution_count": 4,
   "metadata": {},
   "outputs": [
    {
     "data": {
      "text/plain": [
       "[1, 2, 3, 4, 5, 6, 7, 8, 9, 10, 11, 12, 13, 14, 15, 16, 17, 18, 19, 20]"
      ]
     },
     "execution_count": 4,
     "metadata": {},
     "output_type": "execute_result"
    }
   ],
   "source": [
    "bubble_sort_2(list(range(20,0,-1)))"
   ]
  },
  {
   "cell_type": "code",
   "execution_count": 5,
   "metadata": {
    "collapsed": true
   },
   "outputs": [],
   "source": [
    "#优化2，记录最后一次发生交换的“地点”或位置，说明在这个位置之后的数都已经排好序了，因此可以跳着遍历\n",
    "def bubble_sort_3(arry):\n",
    "    pos = len(arry) - 1\n",
    "    \n",
    "    while(pos > 0):\n",
    "        sorted_pos = 0 #设置一个标记变量，默认已经排好序\n",
    "        \n",
    "        for j in range(pos):\n",
    "            if arry[j] > arry[j+1]:\n",
    "                arry[j], arry[j+1] = arry[j+1], arry[j]\n",
    "                sorted_pos = j\n",
    "                \n",
    "        pos = sorted_pos\n",
    "        \n",
    "    return arry    "
   ]
  },
  {
   "cell_type": "code",
   "execution_count": 6,
   "metadata": {},
   "outputs": [
    {
     "data": {
      "text/plain": [
       "[1, 2, 3, 4, 5, 6, 7, 8, 9, 10, 11, 12, 13, 14, 15, 16, 17, 18, 19, 20]"
      ]
     },
     "execution_count": 6,
     "metadata": {},
     "output_type": "execute_result"
    }
   ],
   "source": [
    "bubble_sort_3(list(range(20,0,-1)))"
   ]
  }
 ],
 "metadata": {
  "kernelspec": {
   "display_name": "Python 3",
   "language": "python",
   "name": "python3"
  },
  "language_info": {
   "codemirror_mode": {
    "name": "ipython",
    "version": 3
   },
   "file_extension": ".py",
   "mimetype": "text/x-python",
   "name": "python",
   "nbconvert_exporter": "python",
   "pygments_lexer": "ipython3",
   "version": "3.6.4"
  }
 },
 "nbformat": 4,
 "nbformat_minor": 2
}
