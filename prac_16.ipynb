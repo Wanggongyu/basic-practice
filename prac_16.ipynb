{
 "cells": [
  {
   "cell_type": "markdown",
   "metadata": {},
   "source": [
    "输出指定格式的日期。"
   ]
  },
  {
   "cell_type": "code",
   "execution_count": 1,
   "metadata": {},
   "outputs": [
    {
     "name": "stdout",
     "output_type": "stream",
     "text": [
      "Today is: 1518344839.3086634 s\n",
      "Today is: 2018-02-11 18:27:19\n",
      "Today is: Sun Feb 11 18:27:19 2018\n"
     ]
    }
   ],
   "source": [
    "import time\n",
    "print(\"Today is: %s s\" % time.time())\n",
    "print(\"Today is: %s\" % (time.strftime(\"%Y-%m-%d %X\")))\n",
    "print(\"Today is: %s\" % (time.asctime()))"
   ]
  }
 ],
 "metadata": {
  "kernelspec": {
   "display_name": "Python 3",
   "language": "python",
   "name": "python3"
  },
  "language_info": {
   "codemirror_mode": {
    "name": "ipython",
    "version": 3
   },
   "file_extension": ".py",
   "mimetype": "text/x-python",
   "name": "python",
   "nbconvert_exporter": "python",
   "pygments_lexer": "ipython3",
   "version": "3.6.4"
  }
 },
 "nbformat": 4,
 "nbformat_minor": 2
}
