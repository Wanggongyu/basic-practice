{
 "cells": [
  {
   "cell_type": "markdown",
   "metadata": {},
   "source": [
    "输出指定格式的日期。"
   ]
  },
  {
   "cell_type": "code",
   "execution_count": 6,
   "metadata": {},
   "outputs": [
    {
     "name": "stdout",
     "output_type": "stream",
     "text": [
      "Today is: 1513676730.2769449s\n",
      "Today is: 2017-12-19 17:45:30\n",
      "Today is: Tue Dec 19 17:45:30 2017\n"
     ]
    }
   ],
   "source": [
    "import time\n",
    "print(\"Today is: %ss\" % time.time())\n",
    "print(\"Today is: %s\" % (time.strftime(\"%Y-%m-%d %X\", time.localtime())))\n",
    "print(\"Today is: %s\" % (time.asctime()))"
   ]
  },
  {
   "cell_type": "code",
   "execution_count": null,
   "metadata": {},
   "outputs": [],
   "source": []
  }
 ],
 "metadata": {
  "kernelspec": {
   "display_name": "Python 3",
   "language": "python",
   "name": "python3"
  },
  "language_info": {
   "codemirror_mode": {
    "name": "ipython",
    "version": 3
   },
   "file_extension": ".py",
   "mimetype": "text/x-python",
   "name": "python",
   "nbconvert_exporter": "python",
   "pygments_lexer": "ipython3",
   "version": "3.6.3"
  }
 },
 "nbformat": 4,
 "nbformat_minor": 2
}
