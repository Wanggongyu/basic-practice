{
 "cells": [
  {
   "cell_type": "markdown",
   "metadata": {},
   "source": [
    "判断101-200之间有多少个素数，并输出所有素数。"
   ]
  },
  {
   "cell_type": "code",
   "execution_count": 1,
   "metadata": {
    "collapsed": true
   },
   "outputs": [],
   "source": [
    "def is_prime(n): #n是比较大的奇数,\n",
    "    i = 3\n",
    "    while(i**2 <= n):\n",
    "        if n % i == 0:\n",
    "            return False\n",
    "        i += 2\n",
    "    return True"
   ]
  },
  {
   "cell_type": "code",
   "execution_count": 2,
   "metadata": {},
   "outputs": [
    {
     "name": "stdout",
     "output_type": "stream",
     "text": [
      "num=101\n",
      "num=103\n",
      "num=107\n",
      "num=109\n",
      "num=113\n",
      "num=127\n",
      "num=131\n",
      "num=137\n",
      "num=139\n",
      "num=149\n",
      "num=151\n",
      "num=157\n",
      "num=163\n",
      "num=167\n",
      "num=173\n",
      "num=179\n",
      "num=181\n",
      "num=191\n",
      "num=193\n",
      "num=197\n",
      "num=199\n",
      "cnt: 21\n"
     ]
    }
   ],
   "source": [
    "cnt = 0\n",
    "\n",
    "for n in range(101, 201, 2):\n",
    "    if is_prime(n):\n",
    "        print(\"num={num}\".format(num=n))\n",
    "        cnt += 1\n",
    "        \n",
    "print(\"cnt:\", cnt)"
   ]
  }
 ],
 "metadata": {
  "kernelspec": {
   "display_name": "Python 3",
   "language": "python",
   "name": "python3"
  },
  "language_info": {
   "codemirror_mode": {
    "name": "ipython",
    "version": 3
   },
   "file_extension": ".py",
   "mimetype": "text/x-python",
   "name": "python",
   "nbconvert_exporter": "python",
   "pygments_lexer": "ipython3",
   "version": "3.6.4"
  }
 },
 "nbformat": 4,
 "nbformat_minor": 2
}
