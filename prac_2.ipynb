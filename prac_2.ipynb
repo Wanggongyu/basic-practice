{
 "cells": [
  {
   "cell_type": "markdown",
   "metadata": {
    "collapsed": true
   },
   "source": [
    "题目：企业发放的奖金根据利润提成。利润(I)低于10万元时，奖金可提10%；利润高于10万元，低于20万元时，低于10万元的部分按10%提成，\n",
    "高于10万元的部分，可提成7.5%；20万到40万之间时，高于20万元的部分，可提成5%；40万到60万之间时高于40万元的部分，可提成3%；60万到100万\n",
    "之间时，高于60万元的部分，可提成1.5%，高于100万元时，超过100万元的部分按1%提成，从键盘输入当月利润I，求应发放奖金总数？"
   ]
  },
  {
   "cell_type": "code",
   "execution_count": 1,
   "metadata": {
    "collapsed": true
   },
   "outputs": [],
   "source": [
    "#利润等级列表\n",
    "profits = [[0, 10], [10, 20], [20, 40], [40, 60], [60, 100], [100, float(\"inf\")]]\n",
    "#提成等级列表\n",
    "percentages = [0.1, 0.075, 0.05, 0.03, 0.015, 0.01]"
   ]
  },
  {
   "cell_type": "code",
   "execution_count": 2,
   "metadata": {
    "collapsed": true
   },
   "outputs": [],
   "source": [
    "def Deduct(I):\n",
    "    s = 0\n",
    "    for profit, percentage in zip(profits, percentages):\n",
    "        if profit[0] <= I < profit[1]:\n",
    "            s += percentage * (I - profit[0])\n",
    "            return s\n",
    "        else:\n",
    "            s += percentage * (profit[1] - profit[0])"
   ]
  },
  {
   "cell_type": "code",
   "execution_count": 3,
   "metadata": {},
   "outputs": [
    {
     "data": {
      "text/plain": [
       "1.15"
      ]
     },
     "execution_count": 3,
     "metadata": {},
     "output_type": "execute_result"
    }
   ],
   "source": [
    "Deduct(12)"
   ]
  }
 ],
 "metadata": {
  "kernelspec": {
   "display_name": "Python 3",
   "language": "python",
   "name": "python3"
  },
  "language_info": {
   "codemirror_mode": {
    "name": "ipython",
    "version": 3
   },
   "file_extension": ".py",
   "mimetype": "text/x-python",
   "name": "python",
   "nbconvert_exporter": "python",
   "pygments_lexer": "ipython3",
   "version": "3.6.4"
  }
 },
 "nbformat": 4,
 "nbformat_minor": 2
}
