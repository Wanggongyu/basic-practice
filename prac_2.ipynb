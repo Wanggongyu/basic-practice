{
 "cells": [
  {
   "cell_type": "code",
   "execution_count": 2,
   "metadata": {},
   "outputs": [],
   "source": [
    "#利润等级列表\n",
    "edges_list = [0, 10, 20, 40, 60, 100]\n",
    "#提成等级列表\n",
    "percentage_list = [0.1, 0.075, 0.05, 0.03, 0.015, 0.01]"
   ]
  },
  {
   "cell_type": "code",
   "execution_count": 14,
   "metadata": {},
   "outputs": [],
   "source": [
    "def Deduct(profit):\n",
    "    s = 0\n",
    "    for i in range(1,len(edges_list)):\n",
    "        if edges_list[i] > profit:\n",
    "            s += (profit - edges_list[i-1]) * percentage_list[i-1]\n",
    "            break\n",
    "        else:\n",
    "            T = (edges_list[i] - edges_list[i-1]) * percentage_list[i-1]\n",
    "            print(\"%i ~ %i 区间: %.3f\" % (edges_list[i-1], edges_list[i], T))\n",
    "            s += T\n",
    "    if profit >= edges_list[-1]:\n",
    "        s += (profit - edges_list[-1]) * percentage_list[-1]\n",
    "    return s"
   ]
  },
  {
   "cell_type": "code",
   "execution_count": 16,
   "metadata": {},
   "outputs": [
    {
     "name": "stdout",
     "output_type": "stream",
     "text": [
      "0 ~ 10 区间: 1.000\n",
      "10 ~ 20 区间: 0.750\n",
      "20 ~ 40 区间: 1.000\n",
      "40 ~ 60 区间: 0.600\n"
     ]
    },
    {
     "data": {
      "text/plain": [
       "3.35"
      ]
     },
     "execution_count": 16,
     "metadata": {},
     "output_type": "execute_result"
    }
   ],
   "source": [
    "Deduct(60)"
   ]
  },
  {
   "cell_type": "code",
   "execution_count": null,
   "metadata": {},
   "outputs": [],
   "source": []
  }
 ],
 "metadata": {
  "kernelspec": {
   "display_name": "Python 3",
   "language": "python",
   "name": "python3"
  },
  "language_info": {
   "codemirror_mode": {
    "name": "ipython",
    "version": 3
   },
   "file_extension": ".py",
   "mimetype": "text/x-python",
   "name": "python",
   "nbconvert_exporter": "python",
   "pygments_lexer": "ipython3",
   "version": "3.6.2"
  }
 },
 "nbformat": 4,
 "nbformat_minor": 2
}
